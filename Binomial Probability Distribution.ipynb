{
 "cells": [
  {
   "cell_type": "markdown",
   "metadata": {},
   "source": [
    "Step by Step solution for a Binomial Probability problem"
   ]
  },
  {
   "cell_type": "markdown",
   "metadata": {},
   "source": [
    "For a binomial probability function with P = 0.6 and n = 13, find the probaility that the number of successes is equal to 8 and the probability that the number of successes is fewer than 7."
   ]
  },
  {
   "cell_type": "markdown",
   "metadata": {},
   "source": [
    "Givens:\n",
    "\n",
    "P = 0.6 (for each INDIVIDUAL event)\n",
    "\n",
    "n = 13 (total number of outcomes)"
   ]
  },
  {
   "cell_type": "markdown",
   "metadata": {},
   "source": [
    "Solving for:\n",
    "\n",
    "P(8 successes) = ?\n",
    "\n",
    "P(fewer than 7 successes) = ?"
   ]
  },
  {
   "cell_type": "markdown",
   "metadata": {},
   "source": [
    "Combination formula  = n! / ( s! * (n - s)! )\n",
    "\n",
    "\"!\" denotes a factorial"
   ]
  },
  {
   "cell_type": "markdown",
   "metadata": {},
   "source": [
    "nCs\n",
    "\n",
    "C = combination\n",
    "\n",
    "n = total number outcomes\n",
    "\n",
    "s = sample size"
   ]
  },
  {
   "cell_type": "markdown",
   "metadata": {},
   "source": [
    "Probabiltiy of success complement = \n",
    "\n",
    "P(X < 7) = P(X <= 6)\n",
    "\n",
    "= P(X=0) + P(X=1) + P(X=2) + P(X=3) + P(X=4) + P(X=5) + P(X=6)"
   ]
  },
  {
   "cell_type": "markdown",
   "metadata": {},
   "source": [
    "Formula for Binomial Probability = (nCs) (P^s) ( (1-P)^n-s )"
   ]
  },
  {
   "cell_type": "code",
   "execution_count": 1,
   "metadata": {},
   "outputs": [],
   "source": [
    "class Binomial_Probability:\n",
    "    def __init__(self, P, outcome, sample):\n",
    "        self.P = P\n",
    "        self.outcome = outcome\n",
    "        self.sample = sample\n",
    "        self.o_minus_s = outcome - sample\n",
    "        \n",
    "    # n is short for number\n",
    "    def total_outcomes(self):\n",
    "        \n",
    "        if self.outcome < 0:\n",
    "            # This is just for error handling purposes\n",
    "            return -1\n",
    "    \n",
    "        else:\n",
    "            outcomes = 1\n",
    "            for integer in range(1, self.outcome+1):\n",
    "                outcomes *= integer\n",
    "            return outcomes\n",
    "         \n",
    "            \n",
    "    def sample_size(self):\n",
    "        if self.sample < 0:\n",
    "            # This is just for error handling purposes\n",
    "            return -1\n",
    "    \n",
    "        else:\n",
    "            sample_size = 1\n",
    "            for integer in range(1, self.sample+1):\n",
    "                sample_size *= integer\n",
    "            return sample_size\n",
    "        \n",
    "        \n",
    "    def outcome_minus_sample(self):\n",
    "        if self.o_minus_s < 0:\n",
    "            # This is just for error handling purposes\n",
    "            return -1\n",
    "    \n",
    "        else:\n",
    "            outcome_sample_difference = 1\n",
    "            for integer in range(1, self.o_minus_s+1):\n",
    "                outcome_sample_difference *= integer\n",
    "            return outcome_sample_difference\n",
    "        \n",
    "    def combination(self):\n",
    "        return (self.total_outcomes()) / (self.sample_size() * self.outcome_minus_sample())\n",
    "    \n",
    "    def probability_of_successes(self):\n",
    "        return self.combination() * (self.P**self.sample) * ( (1-self.P)**(self.outcome-self.sample) ) \n",
    "    \n",
    "    \n",
    "    def probability_of_successes_percent(self):\n",
    "        return '{}%'.format( round( (self.probability_of_successes() * 100),3 ) )\n",
    "    \n",
    "    \n",
    "    \n",
    "    # fewere_than_sample in this example was 7\n",
    "    def probability_of_success_complement(self, fewer_than_sample):\n",
    "        \n",
    "        probability_of_complements_sum = 0\n",
    "        \n",
    "        # success probability < fewer_than_sample\n",
    "        for success_probability in range(fewer_than_sample):\n",
    "            \n",
    "            # Binomial_Probability(0.6, 13, 7)\n",
    "            probabilties_of_complements = Binomial_Probability(self.P, self.outcome, success_probability)\n",
    "            \n",
    "            # P(X=0) + P(X=1) + P(X=2)...... + P(X=6)\n",
    "            probability_of_complements_sum += probabilties_of_complements.probability_of_successes()\n",
    "            \n",
    "        return probability_of_complements_sum\n",
    "        \n",
    "        \n",
    "        \n",
    "    def probability_of_success_complement_percent(self, fewer_than_sample):\n",
    "        \n",
    "        return '{}%'.format( round( (self.probability_of_success_complement(fewer_than_sample) * 100),3 ) )"
   ]
  },
  {
   "cell_type": "markdown",
   "metadata": {},
   "source": [
    "Enter the following information:\n",
    "    \n",
    "\n",
    "1st Parameter,(P): Enter the Probability for EACH event (ex. 0.6)\n",
    "\n",
    "2nd Parameter,(n): Enter the total number of outcomes (ex. 13)\n",
    "\n",
    "3rd Parameter,(s): Enter the desired sample size, can NOT exceed n (ex. 8)"
   ]
  },
  {
   "cell_type": "code",
   "execution_count": 2,
   "metadata": {},
   "outputs": [],
   "source": [
    "binomial = Binomial_Probability(0.6, 13, 8)"
   ]
  },
  {
   "cell_type": "code",
   "execution_count": 3,
   "metadata": {},
   "outputs": [
    {
     "data": {
      "text/plain": [
       "1287.0"
      ]
     },
     "execution_count": 3,
     "metadata": {},
     "output_type": "execute_result"
    }
   ],
   "source": [
    "binomial.combination()"
   ]
  },
  {
   "cell_type": "code",
   "execution_count": 4,
   "metadata": {},
   "outputs": [
    {
     "data": {
      "text/plain": [
       "6227020800"
      ]
     },
     "execution_count": 4,
     "metadata": {},
     "output_type": "execute_result"
    }
   ],
   "source": [
    "binomial.total_outcomes()"
   ]
  },
  {
   "cell_type": "code",
   "execution_count": 5,
   "metadata": {},
   "outputs": [
    {
     "data": {
      "text/plain": [
       "40320"
      ]
     },
     "execution_count": 5,
     "metadata": {},
     "output_type": "execute_result"
    }
   ],
   "source": [
    "binomial.sample_size()"
   ]
  },
  {
   "cell_type": "code",
   "execution_count": 6,
   "metadata": {},
   "outputs": [
    {
     "data": {
      "text/plain": [
       "120"
      ]
     },
     "execution_count": 6,
     "metadata": {},
     "output_type": "execute_result"
    }
   ],
   "source": [
    "binomial.outcome_minus_sample()"
   ]
  },
  {
   "cell_type": "code",
   "execution_count": 7,
   "metadata": {},
   "outputs": [
    {
     "data": {
      "text/plain": [
       "0.22135457710079995"
      ]
     },
     "execution_count": 7,
     "metadata": {},
     "output_type": "execute_result"
    }
   ],
   "source": [
    "binomial.probability_of_successes()"
   ]
  },
  {
   "cell_type": "code",
   "execution_count": 8,
   "metadata": {},
   "outputs": [
    {
     "data": {
      "text/plain": [
       "'22.135%'"
      ]
     },
     "execution_count": 8,
     "metadata": {},
     "output_type": "execute_result"
    }
   ],
   "source": [
    "binomial.probability_of_successes_percent()"
   ]
  },
  {
   "cell_type": "code",
   "execution_count": 9,
   "metadata": {},
   "outputs": [
    {
     "data": {
      "text/plain": [
       "0.22884395253760006"
      ]
     },
     "execution_count": 9,
     "metadata": {},
     "output_type": "execute_result"
    }
   ],
   "source": [
    "binomial.probability_of_success_complement(7)"
   ]
  },
  {
   "cell_type": "code",
   "execution_count": 10,
   "metadata": {},
   "outputs": [
    {
     "data": {
      "text/plain": [
       "'22.884%'"
      ]
     },
     "execution_count": 10,
     "metadata": {},
     "output_type": "execute_result"
    }
   ],
   "source": [
    "binomial.probability_of_success_complement_percent(7)"
   ]
  }
 ],
 "metadata": {
  "kernelspec": {
   "display_name": "Python 3",
   "language": "python",
   "name": "python3"
  },
  "language_info": {
   "codemirror_mode": {
    "name": "ipython",
    "version": 3
   },
   "file_extension": ".py",
   "mimetype": "text/x-python",
   "name": "python",
   "nbconvert_exporter": "python",
   "pygments_lexer": "ipython3",
   "version": "3.6.5"
  }
 },
 "nbformat": 4,
 "nbformat_minor": 2
}
